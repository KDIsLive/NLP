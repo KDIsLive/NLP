{
 "cells": [
  {
   "cell_type": "code",
   "execution_count": 6,
   "id": "3fdf1107",
   "metadata": {},
   "outputs": [],
   "source": [
    "#WordNet Lemmetizer\n",
    "#Lemmetization technique is like stemming. The output we get after lemmetization is called Lemma which is a root word \n",
    "#rather than root stem, the output of stemming \n",
    "#After lemmetization we will be getting a valid word that means the same things\n",
    "\n",
    "#NLTK provide WordNetLemmatizer calls which is a thin wrapper around the wordnet corpus \n",
    "#this is calss uses morphy() function to the workd net corpusReader class to find a lemma\n"
   ]
  },
  {
   "cell_type": "code",
   "execution_count": 7,
   "id": "8715558a",
   "metadata": {},
   "outputs": [
    {
     "name": "stderr",
     "output_type": "stream",
     "text": [
      "[nltk_data] Downloading package wordnet to\n",
      "[nltk_data]     C:\\Users\\kushw\\AppData\\Roaming\\nltk_data...\n"
     ]
    },
    {
     "data": {
      "text/plain": [
       "'go'"
      ]
     },
     "execution_count": 7,
     "metadata": {},
     "output_type": "execute_result"
    }
   ],
   "source": [
    "import nltk\n",
    "from nltk.stem import WordNetLemmatizer\n",
    "nltk.download('wordnet')\n",
    "lemmatizer = WordNetLemmatizer()\n",
    "'''\n",
    "POS\n",
    "nont - n\n",
    "verb - v\n",
    "adjective - a\n",
    "adverb - r\n",
    "'''\n",
    "lemmatizer.lemmatize(\"going\", pos='v')\n"
   ]
  },
  {
   "cell_type": "code",
   "execution_count": 12,
   "id": "cc5ed404",
   "metadata": {},
   "outputs": [
    {
     "name": "stdout",
     "output_type": "stream",
     "text": [
      "['going', 'holiday', 'hurrey', 'histories', 'finally', 'eaten']\n"
     ]
    }
   ],
   "source": [
    "words = [\"going\", \"holiday\", \"hurrey\", \"histories\", \"finally\", \"eaten\"]\n",
    "print([lemmatizer.lemmatize(word, pos='a') for word in words])"
   ]
  },
  {
   "cell_type": "code",
   "execution_count": null,
   "id": "71372a2f",
   "metadata": {},
   "outputs": [],
   "source": []
  }
 ],
 "metadata": {
  "kernelspec": {
   "display_name": "Python 3 (ipykernel)",
   "language": "python",
   "name": "python3"
  },
  "language_info": {
   "codemirror_mode": {
    "name": "ipython",
    "version": 3
   },
   "file_extension": ".py",
   "mimetype": "text/x-python",
   "name": "python",
   "nbconvert_exporter": "python",
   "pygments_lexer": "ipython3",
   "version": "3.9.7"
  }
 },
 "nbformat": 4,
 "nbformat_minor": 5
}
