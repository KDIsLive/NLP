{
 "cells": [
  {
   "cell_type": "code",
   "execution_count": 33,
   "id": "a487b3f5",
   "metadata": {},
   "outputs": [],
   "source": [
    "#Toeknization: technique to convert sentences into text\n",
    "#Corpus - paragraph\n",
    "#document- sentences\n",
    "#vocabulary - unique word\n",
    "#word- \n",
    "#NLTK - Natural Language tool kit- builing python program with human laguage data\n",
    "#spaCy - another library similar to NLTK \n",
    "#sent_tokenize paragraph to sentences\n",
    "#word_tokenize sentence to words\n",
    "#wordpunct_tokenize  sentence to words with seggregating puntuation\n",
    "#treebankwordtokenizer\n",
    "#import nltk\n",
    "#nltk.download('punkt') "
   ]
  },
  {
   "cell_type": "code",
   "execution_count": 32,
   "id": "ba3d3eb2",
   "metadata": {},
   "outputs": [
    {
     "name": "stdout",
     "output_type": "stream",
     "text": [
      "[['I', \"'d\", 'highly', 'appreciate', 'the', 'chance', 'to', 'talk', 'to', 'you', 'more', 'and', 'share', 'my', 'potential', 'contributions', 'to', 'Wells', 'Fargo', 'as', 'a', 'consultant', 'in', 'more', 'depth', '.'], ['Thanks', 'for', 'considering', 'my', 'application', ',', 'and', 'I', 'look', 'forward', 'to', 'hearing', 'from', 'you', '!', '.']]\n",
      "[['I', \"'\", 'd', 'highly', 'appreciate', 'the', 'chance', 'to', 'talk', 'to', 'you', 'more', 'and', 'share', 'my', 'potential', 'contributions', 'to', 'Wells', 'Fargo', 'as', 'a', 'consultant', 'in', 'more', 'depth', '.'], ['Thanks', 'for', 'considering', 'my', 'application', ',', 'and', 'I', 'look', 'forward', 'to', 'hearing', 'from', 'you', '!.']]\n",
      "['I', \"'d\", 'highly', 'appreciate', 'the', 'chance', 'to', 'talk', 'to', 'you', 'more', 'and', 'share', 'my', 'potential', 'contributions', 'to', 'Wells', 'Fargo', 'as', 'a', 'consultant', 'in', 'more', 'depth.', 'Thanks', 'for', 'considering', 'my', 'application', ',', 'and', 'I', 'look', 'forward', 'to', 'hearing', 'from', 'you', '!', '.']\n"
     ]
    }
   ],
   "source": [
    "\n",
    "from nltk.tokenize import sent_tokenize, word_tokenize, wordpunct_tokenize, TreebankWordTokenizer  \n",
    "corpus = \"I'd highly appreciate the chance to talk to you more and share my potential contributions to Wells Fargo as a consultant in more depth. Thanks for considering my application, and I look forward to hearing from you!.\"\n",
    "sentences =  sent_tokenize(corpus)\n",
    "\n",
    "words = [word_tokenize(sentence) for sentence in sentences] \n",
    "wordswithpunct = [wordpunct_tokenize(sentence) for sentence in sentences] \n",
    "tokenizer = TreebankWordTokenizer()\n",
    "wordswithtreebankwordtokenizer = tokenizer.tokenize(corpus)\n",
    "print(words)\n",
    "print(wordswithpunct)\n",
    "print(wordswithtreebankwordtokenizer)"
   ]
  },
  {
   "cell_type": "code",
   "execution_count": null,
   "id": "9e32fc84",
   "metadata": {},
   "outputs": [],
   "source": []
  }
 ],
 "metadata": {
  "kernelspec": {
   "display_name": "Python 3 (ipykernel)",
   "language": "python",
   "name": "python3"
  },
  "language_info": {
   "codemirror_mode": {
    "name": "ipython",
    "version": 3
   },
   "file_extension": ".py",
   "mimetype": "text/x-python",
   "name": "python",
   "nbconvert_exporter": "python",
   "pygments_lexer": "ipython3",
   "version": "3.9.7"
  }
 },
 "nbformat": 4,
 "nbformat_minor": 5
}
