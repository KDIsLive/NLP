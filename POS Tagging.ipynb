{
 "cells": [
  {
   "cell_type": "code",
   "execution_count": 10,
   "id": "903a656f",
   "metadata": {},
   "outputs": [
    {
     "data": {
      "text/plain": [
       "['I’d highly appreciate the chance to talk to you more and share my potential contributions to Wells Fargo as a consultant in more depth.',\n",
       " 'Thanks for considering my application, and I look forward to hearing from you!']"
      ]
     },
     "execution_count": 10,
     "metadata": {},
     "output_type": "execute_result"
    }
   ],
   "source": [
    "#Part of speec taggingabs\n",
    "corpus = 'I’d highly appreciate the chance to talk to you more and share my potential contributions to Wells Fargo as a consultant in more depth. Thanks for considering my application, and I look forward to hearing from you!'\n",
    "from nltk.tokenize import sent_tokenize, word_tokenize\n",
    "sentences = sent_tokenize(corpus)\n",
    "sentences"
   ]
  },
  {
   "cell_type": "code",
   "execution_count": 14,
   "id": "7b15c6bf",
   "metadata": {},
   "outputs": [
    {
     "data": {
      "text/plain": [
       "['I',\n",
       " '’',\n",
       " 'd',\n",
       " 'highly',\n",
       " 'appreciate',\n",
       " 'the',\n",
       " 'chance',\n",
       " 'to',\n",
       " 'talk',\n",
       " 'to',\n",
       " 'you',\n",
       " 'more',\n",
       " 'and',\n",
       " 'share',\n",
       " 'my',\n",
       " 'potential',\n",
       " 'contributions',\n",
       " 'to',\n",
       " 'Wells',\n",
       " 'Fargo',\n",
       " 'as',\n",
       " 'a',\n",
       " 'consultant',\n",
       " 'in',\n",
       " 'more',\n",
       " 'depth',\n",
       " '.',\n",
       " 'Thanks',\n",
       " 'for',\n",
       " 'considering',\n",
       " 'my',\n",
       " 'application',\n",
       " ',',\n",
       " 'and',\n",
       " 'I',\n",
       " 'look',\n",
       " 'forward',\n",
       " 'to',\n",
       " 'hearing',\n",
       " 'from',\n",
       " 'you',\n",
       " '!']"
      ]
     },
     "execution_count": 14,
     "metadata": {},
     "output_type": "execute_result"
    }
   ],
   "source": [
    "\n",
    "lstWords = []\n",
    "[lstWords.extend(word_tokenize(sentences)) for sentences in sentences]\n",
    "lstWords"
   ]
  },
  {
   "cell_type": "code",
   "execution_count": 16,
   "id": "0fb38d91",
   "metadata": {},
   "outputs": [
    {
     "data": {
      "text/plain": [
       "['I',\n",
       " '’',\n",
       " 'highly',\n",
       " 'appreciate',\n",
       " 'chance',\n",
       " 'talk',\n",
       " 'share',\n",
       " 'potential',\n",
       " 'contribution',\n",
       " 'Wells',\n",
       " 'Fargo',\n",
       " 'consultant',\n",
       " 'depth',\n",
       " '.',\n",
       " 'Thanks',\n",
       " 'considering',\n",
       " 'application',\n",
       " ',',\n",
       " 'I',\n",
       " 'look',\n",
       " 'forward',\n",
       " 'hearing',\n",
       " '!']"
      ]
     },
     "execution_count": 16,
     "metadata": {},
     "output_type": "execute_result"
    }
   ],
   "source": [
    "#Remove stop woprds and stem the words using lemmatizer\n",
    "from nltk.stem import WordNetLemmatizer \n",
    "from nltk.corpus import stopwords\n",
    "lemmatizer = WordNetLemmatizer()\n",
    "words = [lemmatizer.lemmatize(word) for word in  lstWords if word not in set(stopwords.words('english'))]\n",
    "words"
   ]
  },
  {
   "cell_type": "code",
   "execution_count": 20,
   "id": "dbd94816",
   "metadata": {},
   "outputs": [
    {
     "name": "stderr",
     "output_type": "stream",
     "text": [
      "[nltk_data] Downloading package averaged_perceptron_tagger to\n",
      "[nltk_data]     C:\\Users\\kushw\\AppData\\Roaming\\nltk_data...\n",
      "[nltk_data]   Package averaged_perceptron_tagger is already up-to-\n",
      "[nltk_data]       date!\n"
     ]
    },
    {
     "data": {
      "text/plain": [
       "[('I', 'PRP'),\n",
       " ('’', 'VBP'),\n",
       " ('highly', 'RB'),\n",
       " ('appreciate', 'JJ'),\n",
       " ('chance', 'NN'),\n",
       " ('talk', 'NN'),\n",
       " ('share', 'NN'),\n",
       " ('potential', 'JJ'),\n",
       " ('contribution', 'NN'),\n",
       " ('Wells', 'NNP'),\n",
       " ('Fargo', 'NNP'),\n",
       " ('consultant', 'NN'),\n",
       " ('depth', 'NN'),\n",
       " ('.', '.'),\n",
       " ('Thanks', 'NNS'),\n",
       " ('considering', 'VBG'),\n",
       " ('application', 'NN'),\n",
       " (',', ','),\n",
       " ('I', 'PRP'),\n",
       " ('look', 'VBP'),\n",
       " ('forward', 'RB'),\n",
       " ('hearing', 'NN'),\n",
       " ('!', '.')]"
      ]
     },
     "execution_count": 20,
     "metadata": {},
     "output_type": "execute_result"
    }
   ],
   "source": [
    "#part of speech tagging \n",
    "import nltk\n",
    "nltk.download('averaged_perceptron_tagger')\n",
    "postList =  nltk.pos_tag(words)\n",
    "postList"
   ]
  },
  {
   "cell_type": "code",
   "execution_count": null,
   "id": "e90bcc32",
   "metadata": {},
   "outputs": [],
   "source": []
  }
 ],
 "metadata": {
  "kernelspec": {
   "display_name": "Python 3 (ipykernel)",
   "language": "python",
   "name": "python3"
  },
  "language_info": {
   "codemirror_mode": {
    "name": "ipython",
    "version": 3
   },
   "file_extension": ".py",
   "mimetype": "text/x-python",
   "name": "python",
   "nbconvert_exporter": "python",
   "pygments_lexer": "ipython3",
   "version": "3.9.7"
  }
 },
 "nbformat": 4,
 "nbformat_minor": 5
}
